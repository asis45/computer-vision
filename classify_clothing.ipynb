{
  "nbformat": 4,
  "nbformat_minor": 0,
  "metadata": {
    "colab": {
      "name": "Untitled0.ipynb",
      "provenance": [],
      "collapsed_sections": [],
      "authorship_tag": "ABX9TyP/K4nJz7P0n+s0uOxD2uEX",
      "include_colab_link": true
    },
    "kernelspec": {
      "name": "python3",
      "display_name": "Python 3"
    }
  },
  "cells": [
    {
      "cell_type": "markdown",
      "metadata": {
        "id": "view-in-github",
        "colab_type": "text"
      },
      "source": [
        "<a href=\"https://colab.research.google.com/github/asis45/computer-vision/blob/master/classify_clothing.ipynb\" target=\"_parent\"><img src=\"https://colab.research.google.com/assets/colab-badge.svg\" alt=\"Open In Colab\"/></a>"
      ]
    },
    {
      "cell_type": "code",
      "metadata": {
        "id": "tgUQ6hUZe6md",
        "colab_type": "code",
        "colab": {
          "base_uri": "https://localhost:8080/",
          "height": 1000
        },
        "outputId": "5372427c-7faa-4353-a686-ff69a32a325b"
      },
      "source": [
        "import tensorflow as tf\n",
        "from tensorflow import keras\n",
        "import numpy as np\n",
        "import matplotlib.pyplot as plt\n",
        "\n",
        "\n",
        "\n",
        "data=keras.datasets.fashion_mnist\n",
        "(train_images,train_labels),(test_images,test_labels)=data.load_data()\n",
        "\n",
        "\n",
        "class_names = ['T-shirt/top', 'Trouser', 'Pullover', 'Dress', 'Coat',\n",
        "               'Sandal', 'Shirt', 'Sneaker', 'Bag', 'Ankle boot']\n",
        "\n",
        "train_images=train_images/255.0\n",
        "test_images=test_images/255.0\n",
        "\n",
        "model=keras.Sequential([\n",
        "    keras.layers.Flatten(input_shape=(28,28)),\n",
        "    keras.layers.Dense(128,activation='relu'),\n",
        "    keras.layers.Dense(10,activation='softmax')\n",
        "    \n",
        "])\n",
        "\n",
        "model.compile(optimizer='adam',loss='sparse_categorical_crossentropy',metrics=[\"accuracy\"])\n",
        "model.fit(train_images,train_labels,epochs=10)\n",
        "\n",
        "\n",
        "prediction=model.predict(test_images)\n",
        "\n",
        "for i in range(5):\n",
        "   \n",
        "    plt.imshow(test_images[i])\n",
        "    print(\"Actual:\",class_names[test_labels[i]])\n",
        "    print(\"Prediction:\",class_names[np.argmax(prediction[i])])\n",
        "    plt.show()\n",
        "\n",
        "    print('\\n')\n",
        "    \n",
        "    "
      ],
      "execution_count": 4,
      "outputs": [
        {
          "output_type": "stream",
          "text": [
            "Train on 60000 samples\n",
            "Epoch 1/10\n",
            "60000/60000 [==============================] - 4s 69us/sample - loss: 0.4988 - acc: 0.8227\n",
            "Epoch 2/10\n",
            "60000/60000 [==============================] - 4s 70us/sample - loss: 0.3756 - acc: 0.8637\n",
            "Epoch 3/10\n",
            "60000/60000 [==============================] - 4s 68us/sample - loss: 0.3384 - acc: 0.8753\n",
            "Epoch 4/10\n",
            "60000/60000 [==============================] - 4s 68us/sample - loss: 0.3142 - acc: 0.8853\n",
            "Epoch 5/10\n",
            "60000/60000 [==============================] - 4s 69us/sample - loss: 0.2961 - acc: 0.8914\n",
            "Epoch 6/10\n",
            "60000/60000 [==============================] - 4s 68us/sample - loss: 0.2807 - acc: 0.8967\n",
            "Epoch 7/10\n",
            "60000/60000 [==============================] - 4s 66us/sample - loss: 0.2664 - acc: 0.9009\n",
            "Epoch 8/10\n",
            "60000/60000 [==============================] - 4s 68us/sample - loss: 0.2579 - acc: 0.9039\n",
            "Epoch 9/10\n",
            "60000/60000 [==============================] - 4s 66us/sample - loss: 0.2489 - acc: 0.9075\n",
            "Epoch 10/10\n",
            "60000/60000 [==============================] - 4s 68us/sample - loss: 0.2386 - acc: 0.9104\n",
            "Actual: Ankle boot\n",
            "Prediction: Ankle boot\n"
          ],
          "name": "stdout"
        },
        {
          "output_type": "display_data",
          "data": {
            "image/png": "[encoded data removed]",
            "text/plain": [
              "<Figure size 432x288 with 1 Axes>"
            ]
          },
          "metadata": {
            "tags": []
          }
        },
        {
          "output_type": "stream",
          "text": [
            "\n",
            "\n",
            "Actual: Pullover\n",
            "Prediction: Pullover\n"
          ],
          "name": "stdout"
        },
        {
          "output_type": "display_data",
          "data": {
            "image/png": "[encoded data removed]",
            "text/plain": [
              "<Figure size 432x288 with 1 Axes>"
            ]
          },
          "metadata": {
            "tags": []
          }
        },
        {
          "output_type": "stream",
          "text": [
            "\n",
            "\n",
            "Actual: Trouser\n",
            "Prediction: Trouser\n"
          ],
          "name": "stdout"
        },
        {
          "output_type": "display_data",
          "data": {
            "image/png": "[encoded data removed]",
            "text/plain": [
              "<Figure size 432x288 with 1 Axes>"
            ]
          },
          "metadata": {
            "tags": []
          }
        },
        {
          "output_type": "stream",
          "text": [
            "\n",
            "\n",
            "Actual: Trouser\n",
            "Prediction: Trouser\n"
          ],
          "name": "stdout"
        },
        {
          "output_type": "display_data",
          "data": {
            "image/png": "[encoded data removed]",
            "text/plain": [
              "<Figure size 432x288 with 1 Axes>"
            ]
          },
          "metadata": {
            "tags": []
          }
        },
        {
          "output_type": "stream",
          "text": [
            "\n",
            "\n",
            "Actual: Shirt\n",
            "Prediction: Shirt\n"
          ],
          "name": "stdout"
        },
        {
          "output_type": "display_data",
          "data": {
            "image/png": "[encoded data removed]",
            "text/plain": [
              "<Figure size 432x288 with 1 Axes>"
            ]
          },
          "metadata": {
            "tags": []
          }
        },
        {
          "output_type": "stream",
          "text": [
            "\n",
            "\n"
          ],
          "name": "stdout"
        }
      ]
    },
    {
      "cell_type": "code",
      "metadata": {
        "id": "9eDPSkZ5h0qD",
        "colab_type": "code",
        "colab": {}
      },
      "source": [
        ""
      ],
      "execution_count": 0,
      "outputs": []
    }
  ]
}